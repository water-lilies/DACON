{
 "cells": [
  {
   "cell_type": "code",
   "execution_count": 3,
   "metadata": {},
   "outputs": [],
   "source": [
    "import os\n",
    "import pandas as pd\n",
    "import numpy as np\n",
    "from pathlib import Path"
   ]
  },
  {
   "cell_type": "code",
   "execution_count": 5,
   "metadata": {},
   "outputs": [],
   "source": [
    "# Event 종류\n",
    "mask = np.zeros([5], np.bool) # 가능한 이벤트 검사용 마스크\n",
    "event_map = {0:'CHECK_1', 1:'CHECK_2', 2:'CHECK_3', 3:'CHECK_4', 4:'PROCESS'}\n",
    "\n",
    "check_time = 28    # 28시간 검사를 완료했는지 검사, CHECK Event시 -1, processtime_time >=98 이면 28\n",
    "process = 0        # 생산 가능 여부, 0 이면 28 시간 검사 필요\n",
    "process_mode = 0   # 생산 물품 번호 1~4, stop시 0\n",
    "process_time = 0   # 생산시간이 얼마나 지속되었는지 검사, PROCESS +1, CHANGE +1, 최대 140\n",
    "    "
   ]
  },
  {
   "cell_type": "code",
   "execution_count": 8,
   "metadata": {},
   "outputs": [
    {
     "name": "stdout",
     "output_type": "stream",
     "text": [
      "[False False False False False]\n"
     ]
    }
   ],
   "source": [
    "print(mask)"
   ]
  },
  {
   "cell_type": "code",
   "execution_count": 6,
   "metadata": {},
   "outputs": [
    {
     "name": "stdout",
     "output_type": "stream",
     "text": [
      "[False False False False]\n"
     ]
    }
   ],
   "source": [
    "print(mask[:4])"
   ]
  },
  {
   "cell_type": "code",
   "execution_count": 10,
   "metadata": {},
   "outputs": [
    {
     "ename": "NameError",
     "evalue": "name '__file__' is not defined",
     "output_type": "error",
     "traceback": [
      "\u001b[1;31m---------------------------------------------------------------------------\u001b[0m",
      "\u001b[1;31mNameError\u001b[0m                                 Traceback (most recent call last)",
      "\u001b[1;32m<ipython-input-10-42c9947af172>\u001b[0m in \u001b[0;36m<module>\u001b[1;34m\u001b[0m\n\u001b[0;32m      5\u001b[0m \u001b[1;32mfrom\u001b[0m \u001b[0mmodule\u001b[0m\u001b[1;33m.\u001b[0m\u001b[0msimulator_new\u001b[0m \u001b[1;32mimport\u001b[0m \u001b[0mSimulator\u001b[0m\u001b[1;33m\u001b[0m\u001b[1;33m\u001b[0m\u001b[0m\n\u001b[0;32m      6\u001b[0m \u001b[0msimulator\u001b[0m \u001b[1;33m=\u001b[0m \u001b[0mSimulator\u001b[0m\u001b[1;33m(\u001b[0m\u001b[1;33m)\u001b[0m\u001b[1;33m\u001b[0m\u001b[1;33m\u001b[0m\u001b[0m\n\u001b[1;32m----> 7\u001b[1;33m \u001b[0msubmission_ini\u001b[0m \u001b[1;33m=\u001b[0m \u001b[0mpd\u001b[0m\u001b[1;33m.\u001b[0m\u001b[0mread_csv\u001b[0m\u001b[1;33m(\u001b[0m\u001b[0mos\u001b[0m\u001b[1;33m.\u001b[0m\u001b[0mpath\u001b[0m\u001b[1;33m.\u001b[0m\u001b[0mjoin\u001b[0m\u001b[1;33m(\u001b[0m\u001b[0mPath\u001b[0m\u001b[1;33m(\u001b[0m\u001b[0m__file__\u001b[0m\u001b[1;33m)\u001b[0m\u001b[1;33m.\u001b[0m\u001b[0mresolve\u001b[0m\u001b[1;33m(\u001b[0m\u001b[1;33m)\u001b[0m\u001b[1;33m.\u001b[0m\u001b[0mparent\u001b[0m\u001b[1;33m,\u001b[0m \u001b[1;34m'sample_submission.csv'\u001b[0m\u001b[1;33m)\u001b[0m\u001b[1;33m)\u001b[0m\u001b[1;33m\u001b[0m\u001b[1;33m\u001b[0m\u001b[0m\n\u001b[0m\u001b[0;32m      8\u001b[0m \u001b[0morder_ini\u001b[0m \u001b[1;33m=\u001b[0m \u001b[0mpd\u001b[0m\u001b[1;33m.\u001b[0m\u001b[0mread_csv\u001b[0m\u001b[1;33m(\u001b[0m\u001b[0mos\u001b[0m\u001b[1;33m.\u001b[0m\u001b[0mpath\u001b[0m\u001b[1;33m.\u001b[0m\u001b[0mjoin\u001b[0m\u001b[1;33m(\u001b[0m\u001b[0mPath\u001b[0m\u001b[1;33m(\u001b[0m\u001b[0m__file__\u001b[0m\u001b[1;33m)\u001b[0m\u001b[1;33m.\u001b[0m\u001b[0mresolve\u001b[0m\u001b[1;33m(\u001b[0m\u001b[1;33m)\u001b[0m\u001b[1;33m.\u001b[0m\u001b[0mparent\u001b[0m\u001b[1;33m,\u001b[0m \u001b[1;34m'order.csv'\u001b[0m\u001b[1;33m)\u001b[0m\u001b[1;33m)\u001b[0m\u001b[1;33m\u001b[0m\u001b[1;33m\u001b[0m\u001b[0m\n\u001b[0;32m      9\u001b[0m \u001b[1;33m\u001b[0m\u001b[0m\n",
      "\u001b[1;31mNameError\u001b[0m: name '__file__' is not defined"
     ]
    }
   ],
   "source": [
    "import os\n",
    "import pandas as pd\n",
    "import numpy as np\n",
    "from pathlib import Path\n",
    "from module.simulator_new import Simulator\n",
    "simulator = Simulator()\n",
    "submission_ini = pd.read_csv(os.path.join(Path(__file__).resolve().parent, 'sample_submission.csv'))\n",
    "order_ini = pd.read_csv(os.path.join(Path(__file__).resolve().parent, 'order.csv'))\n",
    "\n",
    "class Genome():\n",
    "    def __init__(self, score_ini, input_len, output_len_1, output_len_2, h1=50, h2=50, h3=50):\n",
    "        # 평가 점수 초기화\n",
    "        self.score = score_ini\n",
    "        \n",
    "        # 히든레이어 노드 개수\n",
    "        self.hidden_layer1 = h1\n",
    "        self.hidden_layer2 = h2\n",
    "        self.hidden_layer3 = h3\n",
    "        \n",
    "        # Event 신경망 가중치 생성\n",
    "        self.w1 = np.random.randn(input_len, self.hidden_layer1)\n",
    "        self.w2 = np.random.randn(self.hidden_layer1, self.hidden_layer2)\n",
    "        self.w3 = np.random.randn(self.hidden_layer2, self.hidden_layer3)\n",
    "        self.w4 = np.random.randn(self.hidden_layer3, output_len_1)\n",
    "        \n",
    "        # MOL 수량 신경망 가중치 생성\n",
    "        self.w5 = np.random.randn(input_len, self.hidden_layer1)\n",
    "        self.w6 = np.random.randn(self.hidden_layer1, self.hidden_layer2)\n",
    "        self.w7 = np.random.randn(self.hidden_layer2, self.hidden_layer3)\n",
    "        self.w8 = np.random.randn(self.hidden_layer3, output_len_2)\n",
    "        \n",
    "        # Event 종류\n",
    "        self.mask = np.zeros([5], np.bool) # 가능한 이벤트 검사용 마스크\n",
    "        self.event_map = {0:'CHECK_1', 1:'CHECK_2', 2:'CHECK_3', 3:'CHECK_4', 4:'PROCESS'}\n",
    "        \n",
    "        self.check_time = 28    # 28시간 검사를 완료했는지 검사, CHECK Event시 -1, processtime_time >=98 이면 28\n",
    "        self.process = 0        # 생산 가능 여부, 0 이면 28 시간 검사 필요\n",
    "        self.process_mode = 0   # 생산 물품 번호 1~4, stop시 0\n",
    "        self.process_time = 0   # 생산시간이 얼마나 지속되었는지 검사, PROCESS +1, CHANGE +1, 최대 140\n",
    "    \n",
    "   \n",
    "    def update_mask(self):\n",
    "        self.mask[:] = False\n",
    "        if self.process == 0:\n",
    "            if self.check_time == 28:\n",
    "                self.mask[:4] = True\n",
    "            if self.check_time < 28:\n",
    "                self.mask[self.process_mode] = True\n",
    "        if self.process == 1:\n",
    "            self.mask[4] = True\n",
    "            if self.process_time > 98:\n",
    "                self.mask[:4] = True\n",
    "    \n",
    "    def forward(self, inputs):\n",
    "        # Event 신경망\n",
    "        net = np.matmul(inputs, self.w1)\n",
    "        net = self.linear(net)\n",
    "        net = np.matmul(net, self.w2)\n",
    "        net = self.linear(net)\n",
    "        net = np.matmul(net, self.w3)\n",
    "        net = self.sigmoid(net)\n",
    "        net = np.matmul(net, self.w4)\n",
    "        net = self.softmax(net)\n",
    "        net += 1\n",
    "        net = net * self.mask\n",
    "        out1 = self.event_map[np.argmax(net)]\n",
    "        \n",
    "        # MOL 수량 신경망\n",
    "        net = np.matmul(inputs, self.w5)\n",
    "        net = self.linear(net)\n",
    "        net = np.matmul(net, self.w6)\n",
    "        net = self.linear(net)\n",
    "        net = np.matmul(net, self.w7)\n",
    "        net = self.sigmoid(net)\n",
    "        net = np.matmul(net, self.w8)\n",
    "        net = self.softmax(net)\n",
    "        out2 = np.argmax(net)\n",
    "        out2 /= 2        \n",
    "        return out1, out2\n",
    "\n",
    "    def sigmoid(self, x):\n",
    "        return 1 / (1 + np.exp(-x))\n",
    "\n",
    "    def softmax(self, x):\n",
    "        return np.exp(x) / np.sum(np.exp(x), axis=0)\n",
    "    \n",
    "    def linear(self, x):\n",
    "        return x\n",
    "    \n",
    "    def create_order(self, order):\n",
    "        for i in range(30):\n",
    "            order.loc[91+i,:] = ['0000-00-00', 0, 0, 0, 0]        \n",
    "        return order\n",
    "   \n",
    "    def predict(self, order):\n",
    "        # A라인\n",
    "        order = self.create_order(order)\n",
    "        self.submission = submission_ini\n",
    "        self.submission.loc[:, 'PRT_1':'PRT_2'] = 0\n",
    "        for s in range(self.submission.shape[0]):\n",
    "            self.update_mask()\n",
    "            inputs = np.array(order.loc[s//24:(s//24+30), 'BLK_1':'BLK_2']).reshape(-1)\n",
    "            inputs = np.append(inputs, s%24)\n",
    "            out1, out2 = self.forward(inputs)\n",
    "            \n",
    "            if out1 == 'CHECK_1':\n",
    "                if self.process == 1:\n",
    "                    self.process = 0\n",
    "                    self.check_time = 28\n",
    "                self.check_time -= 1\n",
    "                self.process_mode = 0\n",
    "                if self.check_time == 0:\n",
    "                    self.process = 1\n",
    "                    self.process_time = 0\n",
    "            elif out1 == 'CHECK_2':\n",
    "                if self.process == 1:\n",
    "                    self.process = 0\n",
    "                    self.check_time = 28\n",
    "                self.check_time -= 1\n",
    "                self.process_mode = 1\n",
    "                if self.check_time == 0:\n",
    "                    self.process =1\n",
    "                    self.process_time = 0\n",
    "\n",
    "            elif out1 == 'PROCESS':\n",
    "                self.process_time += 1\n",
    "                if self.process_time == 140:\n",
    "                    self.process = 0\n",
    "                    self.check_time = 28\n",
    "\n",
    "            self.submission.loc[s, 'Event_A'] = out1\n",
    "            if self.submission.loc[s, 'Event_A'] == 'PROCESS':\n",
    "                self.submission.loc[s, 'MOL_A'] = out2\n",
    "            else:\n",
    "                self.submission.loc[s, 'MOL_A'] = 0\n",
    "                \n",
    "        # 23일간 MOL = 0\n",
    "        self.submission.loc[:24*23, 'MOL_A'] = 0\n",
    "\n",
    "\n",
    "        \n",
    "        \n",
    "        # 변수 초기화\n",
    "        self.check_time = 28\n",
    "        self.process = 0\n",
    "        self.process_mode = 0\n",
    "        self.process_time = 0\n",
    "        \n",
    "        return self.submission    \n",
    "    \n",
    "def genome_score(genome):\n",
    "    submission = genome.predict(order_ini)    \n",
    "    genome.submission = submission    \n",
    "    genome.score, _ = simulator.get_score(submission)    \n",
    "    return genome"
   ]
  },
  {
   "cell_type": "code",
   "execution_count": 9,
   "metadata": {},
   "outputs": [],
   "source": [
    "import pandas as pd\n",
    "import numpy as np\n",
    "import multiprocessing\n",
    "import warnings\n",
    "from copy import deepcopy\n",
    "#from module.genome import Genome, genome_score\n",
    "warnings.filterwarnings(action='ignore')\n",
    "np.random.seed(777)"
   ]
  },
  {
   "cell_type": "code",
   "execution_count": null,
   "metadata": {},
   "outputs": [],
   "source": []
  },
  {
   "cell_type": "code",
   "execution_count": null,
   "metadata": {},
   "outputs": [],
   "source": []
  }
 ],
 "metadata": {
  "kernelspec": {
   "display_name": "Python 3",
   "language": "python",
   "name": "python3"
  },
  "language_info": {
   "codemirror_mode": {
    "name": "ipython",
    "version": 3
   },
   "file_extension": ".py",
   "mimetype": "text/x-python",
   "name": "python",
   "nbconvert_exporter": "python",
   "pygments_lexer": "ipython3",
   "version": "3.6.10"
  }
 },
 "nbformat": 4,
 "nbformat_minor": 4
}
